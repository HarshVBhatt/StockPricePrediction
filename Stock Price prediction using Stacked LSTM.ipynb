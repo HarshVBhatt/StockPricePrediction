{
 "cells": [
  {
   "cell_type": "markdown",
   "id": "67356eb2",
   "metadata": {},
   "source": [
    "# Get data from Tiingo"
   ]
  },
  {
   "cell_type": "code",
   "execution_count": 2,
   "id": "d692f8d5",
   "metadata": {},
   "outputs": [],
   "source": [
    "# use api key for key variable"
   ]
  },
  {
   "cell_type": "code",
   "execution_count": 1,
   "id": "4f64f127",
   "metadata": {},
   "outputs": [],
   "source": [
    "import pandas_datareader as pdr"
   ]
  },
  {
   "cell_type": "code",
   "execution_count": 8,
   "id": "678e78ae",
   "metadata": {},
   "outputs": [
    {
     "name": "stderr",
     "output_type": "stream",
     "text": [
      "C:\\Users\\Harsh\\anaconda3\\envs\\tf_2_5\\lib\\site-packages\\pandas_datareader\\tiingo.py:234: FutureWarning: In a future version of pandas all arguments of concat except for the argument 'objs' will be keyword-only\n",
      "  return pd.concat(dfs, self._concat_axis)\n"
     ]
    }
   ],
   "source": [
    "#df = pdr.get_data_tiingo('AAPL', api_key = key)"
   ]
  },
  {
   "cell_type": "code",
   "execution_count": 9,
   "id": "6b5d4f09",
   "metadata": {},
   "outputs": [],
   "source": [
    "#df.to_csv('AAPL.csv')"
   ]
  },
  {
   "cell_type": "code",
   "execution_count": 6,
   "id": "d15a3a43",
   "metadata": {},
   "outputs": [],
   "source": [
    "import pandas as pd\n",
    "import numpy as np \n",
    "import matplotlib.pyplot as plt"
   ]
  },
  {
   "cell_type": "code",
   "execution_count": 10,
   "id": "347f58a3",
   "metadata": {},
   "outputs": [
    {
     "name": "stdout",
     "output_type": "stream",
     "text": [
      "(1257, 14)\n"
     ]
    },
    {
     "data": {
      "text/html": [
       "<div>\n",
       "<style scoped>\n",
       "    .dataframe tbody tr th:only-of-type {\n",
       "        vertical-align: middle;\n",
       "    }\n",
       "\n",
       "    .dataframe tbody tr th {\n",
       "        vertical-align: top;\n",
       "    }\n",
       "\n",
       "    .dataframe thead th {\n",
       "        text-align: right;\n",
       "    }\n",
       "</style>\n",
       "<table border=\"1\" class=\"dataframe\">\n",
       "  <thead>\n",
       "    <tr style=\"text-align: right;\">\n",
       "      <th></th>\n",
       "      <th>symbol</th>\n",
       "      <th>date</th>\n",
       "      <th>close</th>\n",
       "      <th>high</th>\n",
       "      <th>low</th>\n",
       "      <th>open</th>\n",
       "      <th>volume</th>\n",
       "      <th>adjClose</th>\n",
       "      <th>adjHigh</th>\n",
       "      <th>adjLow</th>\n",
       "      <th>adjOpen</th>\n",
       "      <th>adjVolume</th>\n",
       "      <th>divCash</th>\n",
       "      <th>splitFactor</th>\n",
       "    </tr>\n",
       "  </thead>\n",
       "  <tbody>\n",
       "    <tr>\n",
       "      <th>0</th>\n",
       "      <td>AAPL</td>\n",
       "      <td>2016-07-25 00:00:00+00:00</td>\n",
       "      <td>97.34</td>\n",
       "      <td>98.84</td>\n",
       "      <td>96.92</td>\n",
       "      <td>98.250</td>\n",
       "      <td>40382921</td>\n",
       "      <td>22.730199</td>\n",
       "      <td>23.080469</td>\n",
       "      <td>22.632123</td>\n",
       "      <td>22.942696</td>\n",
       "      <td>161531684</td>\n",
       "      <td>0.0</td>\n",
       "      <td>1.0</td>\n",
       "    </tr>\n",
       "    <tr>\n",
       "      <th>1</th>\n",
       "      <td>AAPL</td>\n",
       "      <td>2016-07-26 00:00:00+00:00</td>\n",
       "      <td>96.67</td>\n",
       "      <td>97.97</td>\n",
       "      <td>96.42</td>\n",
       "      <td>96.820</td>\n",
       "      <td>56239822</td>\n",
       "      <td>22.573745</td>\n",
       "      <td>22.877312</td>\n",
       "      <td>22.515367</td>\n",
       "      <td>22.608772</td>\n",
       "      <td>224959288</td>\n",
       "      <td>0.0</td>\n",
       "      <td>1.0</td>\n",
       "    </tr>\n",
       "    <tr>\n",
       "      <th>2</th>\n",
       "      <td>AAPL</td>\n",
       "      <td>2016-07-27 00:00:00+00:00</td>\n",
       "      <td>102.95</td>\n",
       "      <td>104.35</td>\n",
       "      <td>102.75</td>\n",
       "      <td>104.265</td>\n",
       "      <td>92344820</td>\n",
       "      <td>24.040209</td>\n",
       "      <td>24.367128</td>\n",
       "      <td>23.993507</td>\n",
       "      <td>24.347280</td>\n",
       "      <td>369379280</td>\n",
       "      <td>0.0</td>\n",
       "      <td>1.0</td>\n",
       "    </tr>\n",
       "    <tr>\n",
       "      <th>3</th>\n",
       "      <td>AAPL</td>\n",
       "      <td>2016-07-28 00:00:00+00:00</td>\n",
       "      <td>104.34</td>\n",
       "      <td>104.45</td>\n",
       "      <td>102.82</td>\n",
       "      <td>102.830</td>\n",
       "      <td>39869839</td>\n",
       "      <td>24.364793</td>\n",
       "      <td>24.390480</td>\n",
       "      <td>24.009853</td>\n",
       "      <td>24.012188</td>\n",
       "      <td>159479356</td>\n",
       "      <td>0.0</td>\n",
       "      <td>1.0</td>\n",
       "    </tr>\n",
       "    <tr>\n",
       "      <th>4</th>\n",
       "      <td>AAPL</td>\n",
       "      <td>2016-07-29 00:00:00+00:00</td>\n",
       "      <td>104.21</td>\n",
       "      <td>104.55</td>\n",
       "      <td>103.68</td>\n",
       "      <td>104.190</td>\n",
       "      <td>27733688</td>\n",
       "      <td>24.334436</td>\n",
       "      <td>24.413831</td>\n",
       "      <td>24.210674</td>\n",
       "      <td>24.329766</td>\n",
       "      <td>110934752</td>\n",
       "      <td>0.0</td>\n",
       "      <td>1.0</td>\n",
       "    </tr>\n",
       "  </tbody>\n",
       "</table>\n",
       "</div>"
      ],
      "text/plain": [
       "  symbol                       date   close    high     low     open  \\\n",
       "0   AAPL  2016-07-25 00:00:00+00:00   97.34   98.84   96.92   98.250   \n",
       "1   AAPL  2016-07-26 00:00:00+00:00   96.67   97.97   96.42   96.820   \n",
       "2   AAPL  2016-07-27 00:00:00+00:00  102.95  104.35  102.75  104.265   \n",
       "3   AAPL  2016-07-28 00:00:00+00:00  104.34  104.45  102.82  102.830   \n",
       "4   AAPL  2016-07-29 00:00:00+00:00  104.21  104.55  103.68  104.190   \n",
       "\n",
       "     volume   adjClose    adjHigh     adjLow    adjOpen  adjVolume  divCash  \\\n",
       "0  40382921  22.730199  23.080469  22.632123  22.942696  161531684      0.0   \n",
       "1  56239822  22.573745  22.877312  22.515367  22.608772  224959288      0.0   \n",
       "2  92344820  24.040209  24.367128  23.993507  24.347280  369379280      0.0   \n",
       "3  39869839  24.364793  24.390480  24.009853  24.012188  159479356      0.0   \n",
       "4  27733688  24.334436  24.413831  24.210674  24.329766  110934752      0.0   \n",
       "\n",
       "   splitFactor  \n",
       "0          1.0  \n",
       "1          1.0  \n",
       "2          1.0  \n",
       "3          1.0  \n",
       "4          1.0  "
      ]
     },
     "execution_count": 10,
     "metadata": {},
     "output_type": "execute_result"
    }
   ],
   "source": [
    "df = pd.read_csv('AAPL.csv')\n",
    "\n",
    "print(df.shape)\n",
    "df.head()"
   ]
  },
  {
   "cell_type": "code",
   "execution_count": 11,
   "id": "f0176a20",
   "metadata": {},
   "outputs": [],
   "source": [
    "df1 = df.reset_index()['close']"
   ]
  },
  {
   "cell_type": "code",
   "execution_count": 12,
   "id": "47e36378",
   "metadata": {},
   "outputs": [
    {
     "data": {
      "text/plain": [
       "[<matplotlib.lines.Line2D at 0x1d48b0ca3a0>]"
      ]
     },
     "execution_count": 12,
     "metadata": {},
     "output_type": "execute_result"
    },
    {
     "data": {
      "image/png": "[encoded data removed]",
      "text/plain": [
       "<Figure size 432x288 with 1 Axes>"
      ]
     },
     "metadata": {
      "needs_background": "light"
     },
     "output_type": "display_data"
    }
   ],
   "source": [
    "plt.plot(df1)"
   ]
  },
  {
   "cell_type": "markdown",
   "id": "76677629",
   "metadata": {},
   "source": [
    "# Preprocessing"
   ]
  },
  {
   "cell_type": "code",
   "execution_count": 13,
   "id": "85f5756b",
   "metadata": {},
   "outputs": [],
   "source": [
    "from sklearn.preprocessing import MinMaxScaler"
   ]
  },
  {
   "cell_type": "code",
   "execution_count": 14,
   "id": "4354e58d",
   "metadata": {},
   "outputs": [],
   "source": [
    "scaler = MinMaxScaler(feature_range = (0, 1))\n",
    "df1 = scaler.fit_transform(np.array(df1).reshape(-1, 1))"
   ]
  },
  {
   "cell_type": "code",
   "execution_count": 18,
   "id": "b82e6db6",
   "metadata": {},
   "outputs": [
    {
     "data": {
      "text/plain": [
       "array([[0.00163646],\n",
       "       [0.        ],\n",
       "       [0.01533877],\n",
       "       ...,\n",
       "       [0.11181672],\n",
       "       [0.12085389],\n",
       "       [0.11902203]])"
      ]
     },
     "execution_count": 18,
     "metadata": {},
     "output_type": "execute_result"
    }
   ],
   "source": [
    "df1"
   ]
  },
  {
   "cell_type": "code",
   "execution_count": 20,
   "id": "794d00d9",
   "metadata": {},
   "outputs": [],
   "source": [
    "from sklearn.model_selection import train_test_split"
   ]
  },
  {
   "cell_type": "code",
   "execution_count": 21,
   "id": "db7eb8e4",
   "metadata": {},
   "outputs": [],
   "source": [
    "train_size = int(len(df1) * 0.65)\n",
    "test_size = len(df1) - train_size\n",
    "train_data, test_data = df1[0:train_size, :], df1[train_size: , :]"
   ]
  },
  {
   "cell_type": "code",
   "execution_count": 22,
   "id": "ca1f9cd6",
   "metadata": {},
   "outputs": [
    {
     "data": {
      "text/plain": [
       "(817, 1)"
      ]
     },
     "execution_count": 22,
     "metadata": {},
     "output_type": "execute_result"
    }
   ],
   "source": [
    "train_data.shape"
   ]
  },
  {
   "cell_type": "code",
   "execution_count": 23,
   "id": "46706e03",
   "metadata": {},
   "outputs": [
    {
     "data": {
      "text/plain": [
       "(440, 1)"
      ]
     },
     "execution_count": 23,
     "metadata": {},
     "output_type": "execute_result"
    }
   ],
   "source": [
    "test_data.shape"
   ]
  },
  {
   "cell_type": "code",
   "execution_count": 24,
   "id": "1981380c",
   "metadata": {},
   "outputs": [],
   "source": [
    "def create_dataset(dataset, time_step = 1):\n",
    "    dataX, dataY = [], []\n",
    "    \n",
    "    for i in range(len(dataset) - time_step - 1):\n",
    "        a = dataset[i: (i + time_step), 0]\n",
    "        dataX.append(a)\n",
    "        dataY.append(dataset[i + time_step, 0])\n",
    "        \n",
    "    return np.array(dataX), np.array(dataY)"
   ]
  },
  {
   "cell_type": "code",
   "execution_count": 25,
   "id": "233aa42a",
   "metadata": {},
   "outputs": [],
   "source": [
    "time_step = 100\n",
    "X_train, y_train = create_dataset(train_data, time_step)\n",
    "X_test, y_test = create_dataset(test_data, time_step)"
   ]
  },
  {
   "cell_type": "code",
   "execution_count": 26,
   "id": "997a7f64",
   "metadata": {},
   "outputs": [
    {
     "name": "stdout",
     "output_type": "stream",
     "text": [
      "(716, 100) (716,)\n"
     ]
    }
   ],
   "source": [
    "print(X_train.shape, y_train.shape)"
   ]
  },
  {
   "cell_type": "code",
   "execution_count": 27,
   "id": "d3ef41ce",
   "metadata": {},
   "outputs": [
    {
     "name": "stdout",
     "output_type": "stream",
     "text": [
      "(339, 100) (339,)\n"
     ]
    }
   ],
   "source": [
    "print(X_test.shape, y_test.shape)"
   ]
  },
  {
   "cell_type": "code",
   "execution_count": 28,
   "id": "8c863d50",
   "metadata": {},
   "outputs": [],
   "source": [
    "#reshape inputs to be [samples, time_step, features] for LSTM\n",
    "X_train = X_train.reshape(X_train.shape[0], X_train.shape[1], 1)\n",
    "X_test = X_test.reshape(X_test.shape[0], X_test.shape[1], 1)"
   ]
  },
  {
   "cell_type": "markdown",
   "id": "489438d1",
   "metadata": {},
   "source": [
    "# Model"
   ]
  },
  {
   "cell_type": "code",
   "execution_count": 32,
   "id": "9c1e3de4",
   "metadata": {},
   "outputs": [],
   "source": [
    "import tensorflow as tf\n",
    "from tensorflow import keras\n",
    "from tensorflow.keras.models import Sequential\n",
    "from tensorflow.keras.layers import Dense, LSTM"
   ]
  },
  {
   "cell_type": "code",
   "execution_count": 33,
   "id": "30a27673",
   "metadata": {},
   "outputs": [],
   "source": [
    "model = Sequential()\n",
    "model.add(LSTM(50, return_sequences = True, input_shape = (100, 1)))\n",
    "model.add(LSTM(50, return_sequences = True))\n",
    "model.add(LSTM(50))\n",
    "model.add(Dense(1))\n",
    "model.compile(optimizer = 'adam', loss = 'mean_squared_error')"
   ]
  },
  {
   "cell_type": "code",
   "execution_count": 34,
   "id": "df82da78",
   "metadata": {},
   "outputs": [
    {
     "name": "stdout",
     "output_type": "stream",
     "text": [
      "Model: \"sequential\"\n",
      "_________________________________________________________________\n",
      "Layer (type)                 Output Shape              Param #   \n",
      "=================================================================\n",
      "lstm (LSTM)                  (None, 100, 50)           10400     \n",
      "_________________________________________________________________\n",
      "lstm_1 (LSTM)                (None, 100, 50)           20200     \n",
      "_________________________________________________________________\n",
      "lstm_2 (LSTM)                (None, 50)                20200     \n",
      "_________________________________________________________________\n",
      "dense (Dense)                (None, 1)                 51        \n",
      "=================================================================\n",
      "Total params: 50,851\n",
      "Trainable params: 50,851\n",
      "Non-trainable params: 0\n",
      "_________________________________________________________________\n"
     ]
    }
   ],
   "source": [
    "model.summary()"
   ]
  },
  {
   "cell_type": "code",
   "execution_count": 35,
   "id": "f2b906e0",
   "metadata": {},
   "outputs": [
    {
     "name": "stdout",
     "output_type": "stream",
     "text": [
      "Epoch 1/100\n",
      "12/12 [==============================] - 10s 114ms/step - loss: 0.0131 - val_loss: 0.0418\n",
      "Epoch 2/100\n",
      "12/12 [==============================] - 0s 28ms/step - loss: 0.0030 - val_loss: 0.0299\n",
      "Epoch 3/100\n",
      "12/12 [==============================] - 0s 26ms/step - loss: 0.0018 - val_loss: 0.0300\n",
      "Epoch 4/100\n",
      "12/12 [==============================] - 0s 25ms/step - loss: 0.0011 - val_loss: 0.0218\n",
      "Epoch 5/100\n",
      "12/12 [==============================] - 0s 25ms/step - loss: 5.5388e-04 - val_loss: 0.0219\n",
      "Epoch 6/100\n",
      "12/12 [==============================] - 0s 25ms/step - loss: 4.4699e-04 - val_loss: 0.0233\n",
      "Epoch 7/100\n",
      "12/12 [==============================] - 0s 26ms/step - loss: 4.5679e-04 - val_loss: 0.0207\n",
      "Epoch 8/100\n",
      "12/12 [==============================] - 0s 25ms/step - loss: 4.3732e-04 - val_loss: 0.0198\n",
      "Epoch 9/100\n",
      "12/12 [==============================] - 0s 24ms/step - loss: 4.2236e-04 - val_loss: 0.0197\n",
      "Epoch 10/100\n",
      "12/12 [==============================] - 0s 25ms/step - loss: 4.0193e-04 - val_loss: 0.0199\n",
      "Epoch 11/100\n",
      "12/12 [==============================] - 0s 23ms/step - loss: 3.9032e-04 - val_loss: 0.0191\n",
      "Epoch 12/100\n",
      "12/12 [==============================] - 0s 23ms/step - loss: 3.6342e-04 - val_loss: 0.0193\n",
      "Epoch 13/100\n",
      "12/12 [==============================] - 0s 28ms/step - loss: 3.4935e-04 - val_loss: 0.0190\n",
      "Epoch 14/100\n",
      "12/12 [==============================] - 0s 29ms/step - loss: 3.3665e-04 - val_loss: 0.0183\n",
      "Epoch 15/100\n",
      "12/12 [==============================] - 0s 24ms/step - loss: 3.2625e-04 - val_loss: 0.0181\n",
      "Epoch 16/100\n",
      "12/12 [==============================] - 0s 24ms/step - loss: 3.1777e-04 - val_loss: 0.0179\n",
      "Epoch 17/100\n",
      "12/12 [==============================] - 0s 27ms/step - loss: 3.0494e-04 - val_loss: 0.0177\n",
      "Epoch 18/100\n",
      "12/12 [==============================] - 0s 26ms/step - loss: 3.2708e-04 - val_loss: 0.0165\n",
      "Epoch 19/100\n",
      "12/12 [==============================] - 0s 24ms/step - loss: 2.9010e-04 - val_loss: 0.0163\n",
      "Epoch 20/100\n",
      "12/12 [==============================] - 0s 24ms/step - loss: 2.7822e-04 - val_loss: 0.0165\n",
      "Epoch 21/100\n",
      "12/12 [==============================] - 0s 24ms/step - loss: 2.9300e-04 - val_loss: 0.0156\n",
      "Epoch 22/100\n",
      "12/12 [==============================] - 0s 23ms/step - loss: 2.8172e-04 - val_loss: 0.0158\n",
      "Epoch 23/100\n",
      "12/12 [==============================] - 0s 24ms/step - loss: 2.8017e-04 - val_loss: 0.0155\n",
      "Epoch 24/100\n",
      "12/12 [==============================] - 0s 24ms/step - loss: 3.1188e-04 - val_loss: 0.0138\n",
      "Epoch 25/100\n",
      "12/12 [==============================] - 0s 23ms/step - loss: 4.2230e-04 - val_loss: 0.0144\n",
      "Epoch 26/100\n",
      "12/12 [==============================] - 0s 25ms/step - loss: 3.3633e-04 - val_loss: 0.0136\n",
      "Epoch 27/100\n",
      "12/12 [==============================] - 0s 24ms/step - loss: 2.9154e-04 - val_loss: 0.0135\n",
      "Epoch 28/100\n",
      "12/12 [==============================] - 0s 24ms/step - loss: 2.6536e-04 - val_loss: 0.0136\n",
      "Epoch 29/100\n",
      "12/12 [==============================] - 0s 24ms/step - loss: 2.4696e-04 - val_loss: 0.0130\n",
      "Epoch 30/100\n",
      "12/12 [==============================] - 0s 24ms/step - loss: 2.3683e-04 - val_loss: 0.0131\n",
      "Epoch 31/100\n",
      "12/12 [==============================] - 0s 24ms/step - loss: 2.3954e-04 - val_loss: 0.0122\n",
      "Epoch 32/100\n",
      "12/12 [==============================] - 0s 24ms/step - loss: 2.2898e-04 - val_loss: 0.0124\n",
      "Epoch 33/100\n",
      "12/12 [==============================] - 0s 24ms/step - loss: 2.3379e-04 - val_loss: 0.0120\n",
      "Epoch 34/100\n",
      "12/12 [==============================] - 0s 24ms/step - loss: 2.2633e-04 - val_loss: 0.0121\n",
      "Epoch 35/100\n",
      "12/12 [==============================] - 0s 24ms/step - loss: 2.7123e-04 - val_loss: 0.0115\n",
      "Epoch 36/100\n",
      "12/12 [==============================] - 0s 24ms/step - loss: 2.2227e-04 - val_loss: 0.0116\n",
      "Epoch 37/100\n",
      "12/12 [==============================] - 0s 27ms/step - loss: 2.2812e-04 - val_loss: 0.0111\n",
      "Epoch 38/100\n",
      "12/12 [==============================] - 0s 23ms/step - loss: 2.1721e-04 - val_loss: 0.0109\n",
      "Epoch 39/100\n",
      "12/12 [==============================] - 0s 25ms/step - loss: 2.1412e-04 - val_loss: 0.0106\n",
      "Epoch 40/100\n",
      "12/12 [==============================] - 0s 24ms/step - loss: 2.1080e-04 - val_loss: 0.0104\n",
      "Epoch 41/100\n",
      "12/12 [==============================] - 0s 23ms/step - loss: 2.1481e-04 - val_loss: 0.0103\n",
      "Epoch 42/100\n",
      "12/12 [==============================] - 0s 24ms/step - loss: 2.2177e-04 - val_loss: 0.0100\n",
      "Epoch 43/100\n",
      "12/12 [==============================] - 0s 23ms/step - loss: 2.0287e-04 - val_loss: 0.0100\n",
      "Epoch 44/100\n",
      "12/12 [==============================] - 0s 24ms/step - loss: 2.0228e-04 - val_loss: 0.0097\n",
      "Epoch 45/100\n",
      "12/12 [==============================] - 0s 24ms/step - loss: 2.0592e-04 - val_loss: 0.0096\n",
      "Epoch 46/100\n",
      "12/12 [==============================] - 0s 24ms/step - loss: 2.1144e-04 - val_loss: 0.0095\n",
      "Epoch 47/100\n",
      "12/12 [==============================] - 0s 25ms/step - loss: 2.3673e-04 - val_loss: 0.0093\n",
      "Epoch 48/100\n",
      "12/12 [==============================] - 0s 24ms/step - loss: 2.1084e-04 - val_loss: 0.0093\n",
      "Epoch 49/100\n",
      "12/12 [==============================] - 0s 28ms/step - loss: 2.1435e-04 - val_loss: 0.0091\n",
      "Epoch 50/100\n",
      "12/12 [==============================] - 0s 23ms/step - loss: 2.2025e-04 - val_loss: 0.0088\n",
      "Epoch 51/100\n",
      "12/12 [==============================] - 0s 23ms/step - loss: 1.9170e-04 - val_loss: 0.0087\n",
      "Epoch 52/100\n",
      "12/12 [==============================] - 0s 24ms/step - loss: 1.9169e-04 - val_loss: 0.0086\n",
      "Epoch 53/100\n",
      "12/12 [==============================] - 0s 26ms/step - loss: 1.9379e-04 - val_loss: 0.0085\n",
      "Epoch 54/100\n",
      "12/12 [==============================] - 0s 25ms/step - loss: 1.9924e-04 - val_loss: 0.0084\n",
      "Epoch 55/100\n",
      "12/12 [==============================] - 0s 24ms/step - loss: 1.9609e-04 - val_loss: 0.0083\n",
      "Epoch 56/100\n",
      "12/12 [==============================] - 0s 23ms/step - loss: 1.8187e-04 - val_loss: 0.0083\n",
      "Epoch 57/100\n",
      "12/12 [==============================] - 0s 23ms/step - loss: 1.8162e-04 - val_loss: 0.0081\n",
      "Epoch 58/100\n",
      "12/12 [==============================] - 0s 34ms/step - loss: 1.7954e-04 - val_loss: 0.0081\n",
      "Epoch 59/100\n",
      "12/12 [==============================] - 0s 25ms/step - loss: 1.7461e-04 - val_loss: 0.0080\n",
      "Epoch 60/100\n",
      "12/12 [==============================] - 0s 24ms/step - loss: 1.7459e-04 - val_loss: 0.0079\n",
      "Epoch 61/100\n",
      "12/12 [==============================] - 0s 26ms/step - loss: 1.9242e-04 - val_loss: 0.0077\n",
      "Epoch 62/100\n",
      "12/12 [==============================] - 0s 23ms/step - loss: 1.7723e-04 - val_loss: 0.0077\n",
      "Epoch 63/100\n",
      "12/12 [==============================] - 0s 30ms/step - loss: 1.7504e-04 - val_loss: 0.0076\n",
      "Epoch 64/100\n",
      "12/12 [==============================] - 0s 25ms/step - loss: 1.7074e-04 - val_loss: 0.0076\n",
      "Epoch 65/100\n",
      "12/12 [==============================] - 0s 23ms/step - loss: 1.8590e-04 - val_loss: 0.0074\n",
      "Epoch 66/100\n",
      "12/12 [==============================] - 0s 26ms/step - loss: 1.6753e-04 - val_loss: 0.0073\n",
      "Epoch 67/100\n",
      "12/12 [==============================] - 0s 27ms/step - loss: 1.6408e-04 - val_loss: 0.0072\n",
      "Epoch 68/100\n",
      "12/12 [==============================] - 0s 26ms/step - loss: 1.6109e-04 - val_loss: 0.0071\n",
      "Epoch 69/100\n",
      "12/12 [==============================] - 0s 26ms/step - loss: 1.6194e-04 - val_loss: 0.0073\n",
      "Epoch 70/100\n",
      "12/12 [==============================] - 0s 26ms/step - loss: 1.6644e-04 - val_loss: 0.0072\n",
      "Epoch 71/100\n",
      "12/12 [==============================] - 0s 25ms/step - loss: 1.7101e-04 - val_loss: 0.0073\n",
      "Epoch 72/100\n",
      "12/12 [==============================] - 0s 24ms/step - loss: 1.6452e-04 - val_loss: 0.0072\n",
      "Epoch 73/100\n",
      "12/12 [==============================] - 0s 28ms/step - loss: 1.5877e-04 - val_loss: 0.0069\n",
      "Epoch 74/100\n",
      "12/12 [==============================] - 0s 25ms/step - loss: 1.8408e-04 - val_loss: 0.0077\n",
      "Epoch 75/100\n",
      "12/12 [==============================] - 0s 26ms/step - loss: 1.7077e-04 - val_loss: 0.0070\n",
      "Epoch 76/100\n",
      "12/12 [==============================] - 0s 26ms/step - loss: 1.5192e-04 - val_loss: 0.0071\n",
      "Epoch 77/100\n",
      "12/12 [==============================] - 0s 26ms/step - loss: 1.5757e-04 - val_loss: 0.0070\n",
      "Epoch 78/100\n",
      "12/12 [==============================] - 0s 26ms/step - loss: 1.6298e-04 - val_loss: 0.0072\n",
      "Epoch 79/100\n",
      "12/12 [==============================] - 0s 31ms/step - loss: 1.4354e-04 - val_loss: 0.0076\n",
      "Epoch 80/100\n",
      "12/12 [==============================] - 0s 25ms/step - loss: 1.5243e-04 - val_loss: 0.0077\n",
      "Epoch 81/100\n",
      "12/12 [==============================] - 0s 25ms/step - loss: 1.4051e-04 - val_loss: 0.0080\n",
      "Epoch 82/100\n",
      "12/12 [==============================] - 0s 25ms/step - loss: 1.4109e-04 - val_loss: 0.0081\n",
      "Epoch 83/100\n",
      "12/12 [==============================] - 0s 31ms/step - loss: 1.5694e-04 - val_loss: 0.0079\n",
      "Epoch 84/100\n",
      "12/12 [==============================] - 0s 38ms/step - loss: 1.5103e-04 - val_loss: 0.0087\n",
      "Epoch 85/100\n",
      "12/12 [==============================] - 0s 25ms/step - loss: 1.3767e-04 - val_loss: 0.0098\n",
      "Epoch 86/100\n",
      "12/12 [==============================] - 0s 24ms/step - loss: 1.4762e-04 - val_loss: 0.0090\n",
      "Epoch 87/100\n",
      "12/12 [==============================] - 0s 25ms/step - loss: 1.4222e-04 - val_loss: 0.0091\n",
      "Epoch 88/100\n",
      "12/12 [==============================] - 0s 28ms/step - loss: 1.3335e-04 - val_loss: 0.0099\n",
      "Epoch 89/100\n",
      "12/12 [==============================] - 0s 25ms/step - loss: 1.2866e-04 - val_loss: 0.0105\n",
      "Epoch 90/100\n",
      "12/12 [==============================] - 0s 25ms/step - loss: 1.3638e-04 - val_loss: 0.0104\n",
      "Epoch 91/100\n",
      "12/12 [==============================] - 0s 26ms/step - loss: 1.3154e-04 - val_loss: 0.0134\n",
      "Epoch 92/100\n",
      "12/12 [==============================] - 0s 25ms/step - loss: 1.2923e-04 - val_loss: 0.0118\n",
      "Epoch 93/100\n",
      "12/12 [==============================] - 0s 24ms/step - loss: 1.2448e-04 - val_loss: 0.0188\n",
      "Epoch 94/100\n",
      "12/12 [==============================] - 0s 25ms/step - loss: 1.4307e-04 - val_loss: 0.0080\n",
      "Epoch 95/100\n",
      "12/12 [==============================] - 0s 25ms/step - loss: 1.2934e-04 - val_loss: 0.0093\n",
      "Epoch 96/100\n",
      "12/12 [==============================] - 0s 30ms/step - loss: 1.1545e-04 - val_loss: 0.0107\n",
      "Epoch 97/100\n",
      "12/12 [==============================] - 0s 25ms/step - loss: 1.2259e-04 - val_loss: 0.0089\n",
      "Epoch 98/100\n",
      "12/12 [==============================] - 0s 25ms/step - loss: 1.1342e-04 - val_loss: 0.0088\n",
      "Epoch 99/100\n",
      "12/12 [==============================] - 0s 25ms/step - loss: 1.3041e-04 - val_loss: 0.0084\n",
      "Epoch 100/100\n",
      "12/12 [==============================] - 0s 27ms/step - loss: 1.1225e-04 - val_loss: 0.0116\n"
     ]
    },
    {
     "data": {
      "text/plain": [
       "<tensorflow.python.keras.callbacks.History at 0x1d4a8e80a30>"
      ]
     },
     "execution_count": 35,
     "metadata": {},
     "output_type": "execute_result"
    }
   ],
   "source": [
    "model.fit(X_train, y_train, validation_data = (X_test, y_test), epochs = 100, batch_size = 64, verbose = 1)"
   ]
  },
  {
   "cell_type": "code",
   "execution_count": 36,
   "id": "1769f48d",
   "metadata": {},
   "outputs": [],
   "source": [
    "train_predict = model.predict(X_train)\n",
    "test_predict = model.predict(X_test)"
   ]
  },
  {
   "cell_type": "code",
   "execution_count": 37,
   "id": "7b337988",
   "metadata": {},
   "outputs": [],
   "source": [
    "train_predict = scaler.inverse_transform(train_predict)\n",
    "test_predict = scaler.inverse_transform(test_predict)"
   ]
  },
  {
   "cell_type": "code",
   "execution_count": 38,
   "id": "71c40b8a",
   "metadata": {},
   "outputs": [
    {
     "data": {
      "text/plain": [
       "175.9489385053868"
      ]
     },
     "execution_count": 38,
     "metadata": {},
     "output_type": "execute_result"
    }
   ],
   "source": [
    "import math\n",
    "from sklearn.metrics import mean_squared_error\n",
    "math.sqrt(mean_squared_error(y_train, train_predict))"
   ]
  },
  {
   "cell_type": "code",
   "execution_count": 39,
   "id": "b192e5fe",
   "metadata": {},
   "outputs": [
    {
     "data": {
      "text/plain": [
       "204.61722814139574"
      ]
     },
     "execution_count": 39,
     "metadata": {},
     "output_type": "execute_result"
    }
   ],
   "source": [
    "math.sqrt(mean_squared_error(y_test, test_predict))"
   ]
  },
  {
   "cell_type": "code",
   "execution_count": 41,
   "id": "49da5205",
   "metadata": {},
   "outputs": [
    {
     "data": {
      "image/png": "[encoded data removed]",
      "text/plain": [
       "<Figure size 432x288 with 1 Axes>"
      ]
     },
     "metadata": {
      "needs_background": "light"
     },
     "output_type": "display_data"
    }
   ],
   "source": [
    "look_back = 100\n",
    "\n",
    "trainPredictPlot = np.empty_like(df1)\n",
    "trainPredictPlot[:, :] = np.nan\n",
    "trainPredictPlot[look_back: len(train_predict) + look_back, :] = train_predict\n",
    "\n",
    "testPredictPlot = np.empty_like(df1)\n",
    "testPredictPlot[:, :] = np.nan\n",
    "testPredictPlot[len(train_predict) + (look_back * 2) + 1: len(df1) - 1, :] = test_predict\n",
    "\n",
    "plt.plot(scaler.inverse_transform(df1))\n",
    "plt.plot(trainPredictPlot)\n",
    "plt.plot(testPredictPlot)\n",
    "plt.show()"
   ]
  },
  {
   "cell_type": "markdown",
   "id": "7c4c6129",
   "metadata": {},
   "source": [
    "# New Predictions"
   ]
  },
  {
   "cell_type": "code",
   "execution_count": 42,
   "id": "f6cc2742",
   "metadata": {},
   "outputs": [
    {
     "data": {
      "text/plain": [
       "440"
      ]
     },
     "execution_count": 42,
     "metadata": {},
     "output_type": "execute_result"
    }
   ],
   "source": [
    "len(test_data)"
   ]
  },
  {
   "cell_type": "code",
   "execution_count": 43,
   "id": "e0a7df23",
   "metadata": {},
   "outputs": [
    {
     "data": {
      "text/plain": [
       "(1, 100)"
      ]
     },
     "execution_count": 43,
     "metadata": {},
     "output_type": "execute_result"
    }
   ],
   "source": [
    "x_input = test_data[len(test_data) - 100: ].reshape(1, -1)\n",
    "x_input.shape"
   ]
  },
  {
   "cell_type": "code",
   "execution_count": 53,
   "id": "e93890b9",
   "metadata": {},
   "outputs": [],
   "source": [
    "temp_input = list(x_input)\n",
    "temp_input = temp_input[0].tolist()"
   ]
  },
  {
   "cell_type": "code",
   "execution_count": 45,
   "id": "1d88b2be",
   "metadata": {},
   "outputs": [
    {
     "name": "stdout",
     "output_type": "stream",
     "text": [
      "1 day input [0.06948854 0.06201456 0.05730057 0.06045137 0.04809242 0.05963314\n",
      " 0.0569342  0.06177031 0.0594988  0.06672854 0.07058766 0.06860925\n",
      " 0.05827756 0.05695862 0.06526306 0.06318695 0.05720287 0.05842411\n",
      " 0.05993845 0.0603781  0.0567388  0.06223438 0.06431049 0.07139368\n",
      " 0.07215085 0.07627864 0.08228714 0.08872307 0.08443652 0.09222803\n",
      " 0.08636608 0.092399   0.09156856 0.09322945 0.08900396 0.08995652\n",
      " 0.08614626 0.09195936 0.09293635 0.09213033 0.09015192 0.08990767\n",
      " 0.08497387 0.08761174 0.07615651 0.07676713 0.0807728  0.08192077\n",
      " 0.07371403 0.0714181  0.06374872 0.06912217 0.07517952 0.0722974\n",
      " 0.06882908 0.06843828 0.07483758 0.07024571 0.07432465 0.07383616\n",
      " 0.07371403 0.06987934 0.06824288 0.06743686 0.069342   0.06562943\n",
      " 0.07136925 0.07139368 0.07344536 0.07439793 0.0719066  0.07493527\n",
      " 0.08258024 0.08052855 0.08177422 0.08577988 0.08253139 0.08702555\n",
      " 0.09112891 0.09044502 0.0897367  0.08900396 0.0930829  0.09686874\n",
      " 0.0984075  0.09916467 0.10573494 0.11076645 0.11699477 0.11374628\n",
      " 0.11831371 0.1168238  0.11960823 0.12818133 0.12654487 0.12144009\n",
      " 0.11181672 0.12085389 0.11902203 0.11971597]\n",
      "1 day output [[0.11876662]]\n",
      "2 day input [0.06201456 0.05730057 0.06045137 0.04809242 0.05963314 0.0569342\n",
      " 0.06177031 0.0594988  0.06672854 0.07058766 0.06860925 0.05827756\n",
      " 0.05695862 0.06526306 0.06318695 0.05720287 0.05842411 0.05993845\n",
      " 0.0603781  0.0567388  0.06223438 0.06431049 0.07139368 0.07215085\n",
      " 0.07627864 0.08228714 0.08872307 0.08443652 0.09222803 0.08636608\n",
      " 0.092399   0.09156856 0.09322945 0.08900396 0.08995652 0.08614626\n",
      " 0.09195936 0.09293635 0.09213033 0.09015192 0.08990767 0.08497387\n",
      " 0.08761174 0.07615651 0.07676713 0.0807728  0.08192077 0.07371403\n",
      " 0.0714181  0.06374872 0.06912217 0.07517952 0.0722974  0.06882908\n",
      " 0.06843828 0.07483758 0.07024571 0.07432465 0.07383616 0.07371403\n",
      " 0.06987934 0.06824288 0.06743686 0.069342   0.06562943 0.07136925\n",
      " 0.07139368 0.07344536 0.07439793 0.0719066  0.07493527 0.08258024\n",
      " 0.08052855 0.08177422 0.08577988 0.08253139 0.08702555 0.09112891\n",
      " 0.09044502 0.0897367  0.08900396 0.0930829  0.09686874 0.0984075\n",
      " 0.09916467 0.10573494 0.11076645 0.11699477 0.11374628 0.11831371\n",
      " 0.1168238  0.11960823 0.12818133 0.12654487 0.12144009 0.11181672\n",
      " 0.12085389 0.11902203 0.11971597 0.11876662]\n",
      "2 day output [[0.11817786]]\n",
      "3 day input [0.05730057 0.06045137 0.04809242 0.05963314 0.0569342  0.06177031\n",
      " 0.0594988  0.06672854 0.07058766 0.06860925 0.05827756 0.05695862\n",
      " 0.06526306 0.06318695 0.05720287 0.05842411 0.05993845 0.0603781\n",
      " 0.0567388  0.06223438 0.06431049 0.07139368 0.07215085 0.07627864\n",
      " 0.08228714 0.08872307 0.08443652 0.09222803 0.08636608 0.092399\n",
      " 0.09156856 0.09322945 0.08900396 0.08995652 0.08614626 0.09195936\n",
      " 0.09293635 0.09213033 0.09015192 0.08990767 0.08497387 0.08761174\n",
      " 0.07615651 0.07676713 0.0807728  0.08192077 0.07371403 0.0714181\n",
      " 0.06374872 0.06912217 0.07517952 0.0722974  0.06882908 0.06843828\n",
      " 0.07483758 0.07024571 0.07432465 0.07383616 0.07371403 0.06987934\n",
      " 0.06824288 0.06743686 0.069342   0.06562943 0.07136925 0.07139368\n",
      " 0.07344536 0.07439793 0.0719066  0.07493527 0.08258024 0.08052855\n",
      " 0.08177422 0.08577988 0.08253139 0.08702555 0.09112891 0.09044502\n",
      " 0.0897367  0.08900396 0.0930829  0.09686874 0.0984075  0.09916467\n",
      " 0.10573494 0.11076645 0.11699477 0.11374628 0.11831371 0.1168238\n",
      " 0.11960823 0.12818133 0.12654487 0.12144009 0.11181672 0.12085389\n",
      " 0.11902203 0.11971597 0.11876662 0.11817786]\n",
      "3 day output [[0.11789942]]\n",
      "4 day input [0.06045137 0.04809242 0.05963314 0.0569342  0.06177031 0.0594988\n",
      " 0.06672854 0.07058766 0.06860925 0.05827756 0.05695862 0.06526306\n",
      " 0.06318695 0.05720287 0.05842411 0.05993845 0.0603781  0.0567388\n",
      " 0.06223438 0.06431049 0.07139368 0.07215085 0.07627864 0.08228714\n",
      " 0.08872307 0.08443652 0.09222803 0.08636608 0.092399   0.09156856\n",
      " 0.09322945 0.08900396 0.08995652 0.08614626 0.09195936 0.09293635\n",
      " 0.09213033 0.09015192 0.08990767 0.08497387 0.08761174 0.07615651\n",
      " 0.07676713 0.0807728  0.08192077 0.07371403 0.0714181  0.06374872\n",
      " 0.06912217 0.07517952 0.0722974  0.06882908 0.06843828 0.07483758\n",
      " 0.07024571 0.07432465 0.07383616 0.07371403 0.06987934 0.06824288\n",
      " 0.06743686 0.069342   0.06562943 0.07136925 0.07139368 0.07344536\n",
      " 0.07439793 0.0719066  0.07493527 0.08258024 0.08052855 0.08177422\n",
      " 0.08577988 0.08253139 0.08702555 0.09112891 0.09044502 0.0897367\n",
      " 0.08900396 0.0930829  0.09686874 0.0984075  0.09916467 0.10573494\n",
      " 0.11076645 0.11699477 0.11374628 0.11831371 0.1168238  0.11960823\n",
      " 0.12818133 0.12654487 0.12144009 0.11181672 0.12085389 0.11902203\n",
      " 0.11971597 0.11876662 0.11817786 0.11789942]\n",
      "4 day output [[0.11784512]]\n",
      "5 day input [0.04809242 0.05963314 0.0569342  0.06177031 0.0594988  0.06672854\n",
      " 0.07058766 0.06860925 0.05827756 0.05695862 0.06526306 0.06318695\n",
      " 0.05720287 0.05842411 0.05993845 0.0603781  0.0567388  0.06223438\n",
      " 0.06431049 0.07139368 0.07215085 0.07627864 0.08228714 0.08872307\n",
      " 0.08443652 0.09222803 0.08636608 0.092399   0.09156856 0.09322945\n",
      " 0.08900396 0.08995652 0.08614626 0.09195936 0.09293635 0.09213033\n",
      " 0.09015192 0.08990767 0.08497387 0.08761174 0.07615651 0.07676713\n",
      " 0.0807728  0.08192077 0.07371403 0.0714181  0.06374872 0.06912217\n",
      " 0.07517952 0.0722974  0.06882908 0.06843828 0.07483758 0.07024571\n",
      " 0.07432465 0.07383616 0.07371403 0.06987934 0.06824288 0.06743686\n",
      " 0.069342   0.06562943 0.07136925 0.07139368 0.07344536 0.07439793\n",
      " 0.0719066  0.07493527 0.08258024 0.08052855 0.08177422 0.08577988\n",
      " 0.08253139 0.08702555 0.09112891 0.09044502 0.0897367  0.08900396\n",
      " 0.0930829  0.09686874 0.0984075  0.09916467 0.10573494 0.11076645\n",
      " 0.11699477 0.11374628 0.11831371 0.1168238  0.11960823 0.12818133\n",
      " 0.12654487 0.12144009 0.11181672 0.12085389 0.11902203 0.11971597\n",
      " 0.11876662 0.11817786 0.11789942 0.11784512]\n",
      "5 day output [[0.11793974]]\n",
      "6 day input [0.05963314 0.0569342  0.06177031 0.0594988  0.06672854 0.07058766\n",
      " 0.06860925 0.05827756 0.05695862 0.06526306 0.06318695 0.05720287\n",
      " 0.05842411 0.05993845 0.0603781  0.0567388  0.06223438 0.06431049\n",
      " 0.07139368 0.07215085 0.07627864 0.08228714 0.08872307 0.08443652\n",
      " 0.09222803 0.08636608 0.092399   0.09156856 0.09322945 0.08900396\n",
      " 0.08995652 0.08614626 0.09195936 0.09293635 0.09213033 0.09015192\n",
      " 0.08990767 0.08497387 0.08761174 0.07615651 0.07676713 0.0807728\n",
      " 0.08192077 0.07371403 0.0714181  0.06374872 0.06912217 0.07517952\n",
      " 0.0722974  0.06882908 0.06843828 0.07483758 0.07024571 0.07432465\n",
      " 0.07383616 0.07371403 0.06987934 0.06824288 0.06743686 0.069342\n",
      " 0.06562943 0.07136925 0.07139368 0.07344536 0.07439793 0.0719066\n",
      " 0.07493527 0.08258024 0.08052855 0.08177422 0.08577988 0.08253139\n",
      " 0.08702555 0.09112891 0.09044502 0.0897367  0.08900396 0.0930829\n",
      " 0.09686874 0.0984075  0.09916467 0.10573494 0.11076645 0.11699477\n",
      " 0.11374628 0.11831371 0.1168238  0.11960823 0.12818133 0.12654487\n",
      " 0.12144009 0.11181672 0.12085389 0.11902203 0.11971597 0.11876662\n",
      " 0.11817786 0.11789942 0.11784512 0.11793974]\n",
      "6 day output [[0.11812992]]\n",
      "7 day input [0.0569342  0.06177031 0.0594988  0.06672854 0.07058766 0.06860925\n",
      " 0.05827756 0.05695862 0.06526306 0.06318695 0.05720287 0.05842411\n",
      " 0.05993845 0.0603781  0.0567388  0.06223438 0.06431049 0.07139368\n",
      " 0.07215085 0.07627864 0.08228714 0.08872307 0.08443652 0.09222803\n",
      " 0.08636608 0.092399   0.09156856 0.09322945 0.08900396 0.08995652\n",
      " 0.08614626 0.09195936 0.09293635 0.09213033 0.09015192 0.08990767\n",
      " 0.08497387 0.08761174 0.07615651 0.07676713 0.0807728  0.08192077\n",
      " 0.07371403 0.0714181  0.06374872 0.06912217 0.07517952 0.0722974\n",
      " 0.06882908 0.06843828 0.07483758 0.07024571 0.07432465 0.07383616\n",
      " 0.07371403 0.06987934 0.06824288 0.06743686 0.069342   0.06562943\n",
      " 0.07136925 0.07139368 0.07344536 0.07439793 0.0719066  0.07493527\n",
      " 0.08258024 0.08052855 0.08177422 0.08577988 0.08253139 0.08702555\n",
      " 0.09112891 0.09044502 0.0897367  0.08900396 0.0930829  0.09686874\n",
      " 0.0984075  0.09916467 0.10573494 0.11076645 0.11699477 0.11374628\n",
      " 0.11831371 0.1168238  0.11960823 0.12818133 0.12654487 0.12144009\n",
      " 0.11181672 0.12085389 0.11902203 0.11971597 0.11876662 0.11817786\n",
      " 0.11789942 0.11784512 0.11793974 0.11812992]\n",
      "7 day output [[0.1183801]]\n",
      "8 day input [0.06177031 0.0594988  0.06672854 0.07058766 0.06860925 0.05827756\n",
      " 0.05695862 0.06526306 0.06318695 0.05720287 0.05842411 0.05993845\n",
      " 0.0603781  0.0567388  0.06223438 0.06431049 0.07139368 0.07215085\n",
      " 0.07627864 0.08228714 0.08872307 0.08443652 0.09222803 0.08636608\n",
      " 0.092399   0.09156856 0.09322945 0.08900396 0.08995652 0.08614626\n",
      " 0.09195936 0.09293635 0.09213033 0.09015192 0.08990767 0.08497387\n",
      " 0.08761174 0.07615651 0.07676713 0.0807728  0.08192077 0.07371403\n",
      " 0.0714181  0.06374872 0.06912217 0.07517952 0.0722974  0.06882908\n",
      " 0.06843828 0.07483758 0.07024571 0.07432465 0.07383616 0.07371403\n",
      " 0.06987934 0.06824288 0.06743686 0.069342   0.06562943 0.07136925\n",
      " 0.07139368 0.07344536 0.07439793 0.0719066  0.07493527 0.08258024\n",
      " 0.08052855 0.08177422 0.08577988 0.08253139 0.08702555 0.09112891\n",
      " 0.09044502 0.0897367  0.08900396 0.0930829  0.09686874 0.0984075\n",
      " 0.09916467 0.10573494 0.11076645 0.11699477 0.11374628 0.11831371\n",
      " 0.1168238  0.11960823 0.12818133 0.12654487 0.12144009 0.11181672\n",
      " 0.12085389 0.11902203 0.11971597 0.11876662 0.11817786 0.11789942\n",
      " 0.11784512 0.11793974 0.11812992 0.1183801 ]\n",
      "8 day output [[0.11866553]]\n",
      "9 day input [0.0594988  0.06672854 0.07058766 0.06860925 0.05827756 0.05695862\n",
      " 0.06526306 0.06318695 0.05720287 0.05842411 0.05993845 0.0603781\n",
      " 0.0567388  0.06223438 0.06431049 0.07139368 0.07215085 0.07627864\n",
      " 0.08228714 0.08872307 0.08443652 0.09222803 0.08636608 0.092399\n",
      " 0.09156856 0.09322945 0.08900396 0.08995652 0.08614626 0.09195936\n",
      " 0.09293635 0.09213033 0.09015192 0.08990767 0.08497387 0.08761174\n",
      " 0.07615651 0.07676713 0.0807728  0.08192077 0.07371403 0.0714181\n",
      " 0.06374872 0.06912217 0.07517952 0.0722974  0.06882908 0.06843828\n",
      " 0.07483758 0.07024571 0.07432465 0.07383616 0.07371403 0.06987934\n",
      " 0.06824288 0.06743686 0.069342   0.06562943 0.07136925 0.07139368\n",
      " 0.07344536 0.07439793 0.0719066  0.07493527 0.08258024 0.08052855\n",
      " 0.08177422 0.08577988 0.08253139 0.08702555 0.09112891 0.09044502\n",
      " 0.0897367  0.08900396 0.0930829  0.09686874 0.0984075  0.09916467\n",
      " 0.10573494 0.11076645 0.11699477 0.11374628 0.11831371 0.1168238\n",
      " 0.11960823 0.12818133 0.12654487 0.12144009 0.11181672 0.12085389\n",
      " 0.11902203 0.11971597 0.11876662 0.11817786 0.11789942 0.11784512\n",
      " 0.11793974 0.11812992 0.1183801  0.11866553]\n",
      "9 day output [[0.11896704]]\n",
      "10 day input [0.06672854 0.07058766 0.06860925 0.05827756 0.05695862 0.06526306\n",
      " 0.06318695 0.05720287 0.05842411 0.05993845 0.0603781  0.0567388\n",
      " 0.06223438 0.06431049 0.07139368 0.07215085 0.07627864 0.08228714\n",
      " 0.08872307 0.08443652 0.09222803 0.08636608 0.092399   0.09156856\n",
      " 0.09322945 0.08900396 0.08995652 0.08614626 0.09195936 0.09293635\n",
      " 0.09213033 0.09015192 0.08990767 0.08497387 0.08761174 0.07615651\n",
      " 0.07676713 0.0807728  0.08192077 0.07371403 0.0714181  0.06374872\n",
      " 0.06912217 0.07517952 0.0722974  0.06882908 0.06843828 0.07483758\n",
      " 0.07024571 0.07432465 0.07383616 0.07371403 0.06987934 0.06824288\n",
      " 0.06743686 0.069342   0.06562943 0.07136925 0.07139368 0.07344536\n",
      " 0.07439793 0.0719066  0.07493527 0.08258024 0.08052855 0.08177422\n",
      " 0.08577988 0.08253139 0.08702555 0.09112891 0.09044502 0.0897367\n",
      " 0.08900396 0.0930829  0.09686874 0.0984075  0.09916467 0.10573494\n",
      " 0.11076645 0.11699477 0.11374628 0.11831371 0.1168238  0.11960823\n",
      " 0.12818133 0.12654487 0.12144009 0.11181672 0.12085389 0.11902203\n",
      " 0.11971597 0.11876662 0.11817786 0.11789942 0.11784512 0.11793974\n",
      " 0.11812992 0.1183801  0.11866553 0.11896704]\n",
      "10 day output [[0.11926852]]\n",
      "11 day input [0.07058766 0.06860925 0.05827756 0.05695862 0.06526306 0.06318695\n",
      " 0.05720287 0.05842411 0.05993845 0.0603781  0.0567388  0.06223438\n",
      " 0.06431049 0.07139368 0.07215085 0.07627864 0.08228714 0.08872307\n",
      " 0.08443652 0.09222803 0.08636608 0.092399   0.09156856 0.09322945\n",
      " 0.08900396 0.08995652 0.08614626 0.09195936 0.09293635 0.09213033\n",
      " 0.09015192 0.08990767 0.08497387 0.08761174 0.07615651 0.07676713\n",
      " 0.0807728  0.08192077 0.07371403 0.0714181  0.06374872 0.06912217\n",
      " 0.07517952 0.0722974  0.06882908 0.06843828 0.07483758 0.07024571\n",
      " 0.07432465 0.07383616 0.07371403 0.06987934 0.06824288 0.06743686\n",
      " 0.069342   0.06562943 0.07136925 0.07139368 0.07344536 0.07439793\n",
      " 0.0719066  0.07493527 0.08258024 0.08052855 0.08177422 0.08577988\n",
      " 0.08253139 0.08702555 0.09112891 0.09044502 0.0897367  0.08900396\n",
      " 0.0930829  0.09686874 0.0984075  0.09916467 0.10573494 0.11076645\n",
      " 0.11699477 0.11374628 0.11831371 0.1168238  0.11960823 0.12818133\n",
      " 0.12654487 0.12144009 0.11181672 0.12085389 0.11902203 0.11971597\n",
      " 0.11876662 0.11817786 0.11789942 0.11784512 0.11793974 0.11812992\n",
      " 0.1183801  0.11866553 0.11896704 0.11926852]\n"
     ]
    },
    {
     "name": "stdout",
     "output_type": "stream",
     "text": [
      "11 day output [[0.11955632]]\n",
      "12 day input [0.06860925 0.05827756 0.05695862 0.06526306 0.06318695 0.05720287\n",
      " 0.05842411 0.05993845 0.0603781  0.0567388  0.06223438 0.06431049\n",
      " 0.07139368 0.07215085 0.07627864 0.08228714 0.08872307 0.08443652\n",
      " 0.09222803 0.08636608 0.092399   0.09156856 0.09322945 0.08900396\n",
      " 0.08995652 0.08614626 0.09195936 0.09293635 0.09213033 0.09015192\n",
      " 0.08990767 0.08497387 0.08761174 0.07615651 0.07676713 0.0807728\n",
      " 0.08192077 0.07371403 0.0714181  0.06374872 0.06912217 0.07517952\n",
      " 0.0722974  0.06882908 0.06843828 0.07483758 0.07024571 0.07432465\n",
      " 0.07383616 0.07371403 0.06987934 0.06824288 0.06743686 0.069342\n",
      " 0.06562943 0.07136925 0.07139368 0.07344536 0.07439793 0.0719066\n",
      " 0.07493527 0.08258024 0.08052855 0.08177422 0.08577988 0.08253139\n",
      " 0.08702555 0.09112891 0.09044502 0.0897367  0.08900396 0.0930829\n",
      " 0.09686874 0.0984075  0.09916467 0.10573494 0.11076645 0.11699477\n",
      " 0.11374628 0.11831371 0.1168238  0.11960823 0.12818133 0.12654487\n",
      " 0.12144009 0.11181672 0.12085389 0.11902203 0.11971597 0.11876662\n",
      " 0.11817786 0.11789942 0.11784512 0.11793974 0.11812992 0.1183801\n",
      " 0.11866553 0.11896704 0.11926852 0.11955632]\n",
      "12 day output [[0.11981937]]\n",
      "13 day input [0.05827756 0.05695862 0.06526306 0.06318695 0.05720287 0.05842411\n",
      " 0.05993845 0.0603781  0.0567388  0.06223438 0.06431049 0.07139368\n",
      " 0.07215085 0.07627864 0.08228714 0.08872307 0.08443652 0.09222803\n",
      " 0.08636608 0.092399   0.09156856 0.09322945 0.08900396 0.08995652\n",
      " 0.08614626 0.09195936 0.09293635 0.09213033 0.09015192 0.08990767\n",
      " 0.08497387 0.08761174 0.07615651 0.07676713 0.0807728  0.08192077\n",
      " 0.07371403 0.0714181  0.06374872 0.06912217 0.07517952 0.0722974\n",
      " 0.06882908 0.06843828 0.07483758 0.07024571 0.07432465 0.07383616\n",
      " 0.07371403 0.06987934 0.06824288 0.06743686 0.069342   0.06562943\n",
      " 0.07136925 0.07139368 0.07344536 0.07439793 0.0719066  0.07493527\n",
      " 0.08258024 0.08052855 0.08177422 0.08577988 0.08253139 0.08702555\n",
      " 0.09112891 0.09044502 0.0897367  0.08900396 0.0930829  0.09686874\n",
      " 0.0984075  0.09916467 0.10573494 0.11076645 0.11699477 0.11374628\n",
      " 0.11831371 0.1168238  0.11960823 0.12818133 0.12654487 0.12144009\n",
      " 0.11181672 0.12085389 0.11902203 0.11971597 0.11876662 0.11817786\n",
      " 0.11789942 0.11784512 0.11793974 0.11812992 0.1183801  0.11866553\n",
      " 0.11896704 0.11926852 0.11955632 0.11981937]\n",
      "13 day output [[0.1200497]]\n",
      "14 day input [0.05695862 0.06526306 0.06318695 0.05720287 0.05842411 0.05993845\n",
      " 0.0603781  0.0567388  0.06223438 0.06431049 0.07139368 0.07215085\n",
      " 0.07627864 0.08228714 0.08872307 0.08443652 0.09222803 0.08636608\n",
      " 0.092399   0.09156856 0.09322945 0.08900396 0.08995652 0.08614626\n",
      " 0.09195936 0.09293635 0.09213033 0.09015192 0.08990767 0.08497387\n",
      " 0.08761174 0.07615651 0.07676713 0.0807728  0.08192077 0.07371403\n",
      " 0.0714181  0.06374872 0.06912217 0.07517952 0.0722974  0.06882908\n",
      " 0.06843828 0.07483758 0.07024571 0.07432465 0.07383616 0.07371403\n",
      " 0.06987934 0.06824288 0.06743686 0.069342   0.06562943 0.07136925\n",
      " 0.07139368 0.07344536 0.07439793 0.0719066  0.07493527 0.08258024\n",
      " 0.08052855 0.08177422 0.08577988 0.08253139 0.08702555 0.09112891\n",
      " 0.09044502 0.0897367  0.08900396 0.0930829  0.09686874 0.0984075\n",
      " 0.09916467 0.10573494 0.11076645 0.11699477 0.11374628 0.11831371\n",
      " 0.1168238  0.11960823 0.12818133 0.12654487 0.12144009 0.11181672\n",
      " 0.12085389 0.11902203 0.11971597 0.11876662 0.11817786 0.11789942\n",
      " 0.11784512 0.11793974 0.11812992 0.1183801  0.11866553 0.11896704\n",
      " 0.11926852 0.11955632 0.11981937 0.1200497 ]\n",
      "14 day output [[0.12024255]]\n",
      "15 day input [0.06526306 0.06318695 0.05720287 0.05842411 0.05993845 0.0603781\n",
      " 0.0567388  0.06223438 0.06431049 0.07139368 0.07215085 0.07627864\n",
      " 0.08228714 0.08872307 0.08443652 0.09222803 0.08636608 0.092399\n",
      " 0.09156856 0.09322945 0.08900396 0.08995652 0.08614626 0.09195936\n",
      " 0.09293635 0.09213033 0.09015192 0.08990767 0.08497387 0.08761174\n",
      " 0.07615651 0.07676713 0.0807728  0.08192077 0.07371403 0.0714181\n",
      " 0.06374872 0.06912217 0.07517952 0.0722974  0.06882908 0.06843828\n",
      " 0.07483758 0.07024571 0.07432465 0.07383616 0.07371403 0.06987934\n",
      " 0.06824288 0.06743686 0.069342   0.06562943 0.07136925 0.07139368\n",
      " 0.07344536 0.07439793 0.0719066  0.07493527 0.08258024 0.08052855\n",
      " 0.08177422 0.08577988 0.08253139 0.08702555 0.09112891 0.09044502\n",
      " 0.0897367  0.08900396 0.0930829  0.09686874 0.0984075  0.09916467\n",
      " 0.10573494 0.11076645 0.11699477 0.11374628 0.11831371 0.1168238\n",
      " 0.11960823 0.12818133 0.12654487 0.12144009 0.11181672 0.12085389\n",
      " 0.11902203 0.11971597 0.11876662 0.11817786 0.11789942 0.11784512\n",
      " 0.11793974 0.11812992 0.1183801  0.11866553 0.11896704 0.11926852\n",
      " 0.11955632 0.11981937 0.1200497  0.12024255]\n",
      "15 day output [[0.12039627]]\n",
      "16 day input [0.06318695 0.05720287 0.05842411 0.05993845 0.0603781  0.0567388\n",
      " 0.06223438 0.06431049 0.07139368 0.07215085 0.07627864 0.08228714\n",
      " 0.08872307 0.08443652 0.09222803 0.08636608 0.092399   0.09156856\n",
      " 0.09322945 0.08900396 0.08995652 0.08614626 0.09195936 0.09293635\n",
      " 0.09213033 0.09015192 0.08990767 0.08497387 0.08761174 0.07615651\n",
      " 0.07676713 0.0807728  0.08192077 0.07371403 0.0714181  0.06374872\n",
      " 0.06912217 0.07517952 0.0722974  0.06882908 0.06843828 0.07483758\n",
      " 0.07024571 0.07432465 0.07383616 0.07371403 0.06987934 0.06824288\n",
      " 0.06743686 0.069342   0.06562943 0.07136925 0.07139368 0.07344536\n",
      " 0.07439793 0.0719066  0.07493527 0.08258024 0.08052855 0.08177422\n",
      " 0.08577988 0.08253139 0.08702555 0.09112891 0.09044502 0.0897367\n",
      " 0.08900396 0.0930829  0.09686874 0.0984075  0.09916467 0.10573494\n",
      " 0.11076645 0.11699477 0.11374628 0.11831371 0.1168238  0.11960823\n",
      " 0.12818133 0.12654487 0.12144009 0.11181672 0.12085389 0.11902203\n",
      " 0.11971597 0.11876662 0.11817786 0.11789942 0.11784512 0.11793974\n",
      " 0.11812992 0.1183801  0.11866553 0.11896704 0.11926852 0.11955632\n",
      " 0.11981937 0.1200497  0.12024255 0.12039627]\n",
      "16 day output [[0.12051192]]\n",
      "17 day input [0.05720287 0.05842411 0.05993845 0.0603781  0.0567388  0.06223438\n",
      " 0.06431049 0.07139368 0.07215085 0.07627864 0.08228714 0.08872307\n",
      " 0.08443652 0.09222803 0.08636608 0.092399   0.09156856 0.09322945\n",
      " 0.08900396 0.08995652 0.08614626 0.09195936 0.09293635 0.09213033\n",
      " 0.09015192 0.08990767 0.08497387 0.08761174 0.07615651 0.07676713\n",
      " 0.0807728  0.08192077 0.07371403 0.0714181  0.06374872 0.06912217\n",
      " 0.07517952 0.0722974  0.06882908 0.06843828 0.07483758 0.07024571\n",
      " 0.07432465 0.07383616 0.07371403 0.06987934 0.06824288 0.06743686\n",
      " 0.069342   0.06562943 0.07136925 0.07139368 0.07344536 0.07439793\n",
      " 0.0719066  0.07493527 0.08258024 0.08052855 0.08177422 0.08577988\n",
      " 0.08253139 0.08702555 0.09112891 0.09044502 0.0897367  0.08900396\n",
      " 0.0930829  0.09686874 0.0984075  0.09916467 0.10573494 0.11076645\n",
      " 0.11699477 0.11374628 0.11831371 0.1168238  0.11960823 0.12818133\n",
      " 0.12654487 0.12144009 0.11181672 0.12085389 0.11902203 0.11971597\n",
      " 0.11876662 0.11817786 0.11789942 0.11784512 0.11793974 0.11812992\n",
      " 0.1183801  0.11866553 0.11896704 0.11926852 0.11955632 0.11981937\n",
      " 0.1200497  0.12024255 0.12039627 0.12051192]\n",
      "17 day output [[0.12059277]]\n",
      "18 day input [0.05842411 0.05993845 0.0603781  0.0567388  0.06223438 0.06431049\n",
      " 0.07139368 0.07215085 0.07627864 0.08228714 0.08872307 0.08443652\n",
      " 0.09222803 0.08636608 0.092399   0.09156856 0.09322945 0.08900396\n",
      " 0.08995652 0.08614626 0.09195936 0.09293635 0.09213033 0.09015192\n",
      " 0.08990767 0.08497387 0.08761174 0.07615651 0.07676713 0.0807728\n",
      " 0.08192077 0.07371403 0.0714181  0.06374872 0.06912217 0.07517952\n",
      " 0.0722974  0.06882908 0.06843828 0.07483758 0.07024571 0.07432465\n",
      " 0.07383616 0.07371403 0.06987934 0.06824288 0.06743686 0.069342\n",
      " 0.06562943 0.07136925 0.07139368 0.07344536 0.07439793 0.0719066\n",
      " 0.07493527 0.08258024 0.08052855 0.08177422 0.08577988 0.08253139\n",
      " 0.08702555 0.09112891 0.09044502 0.0897367  0.08900396 0.0930829\n",
      " 0.09686874 0.0984075  0.09916467 0.10573494 0.11076645 0.11699477\n",
      " 0.11374628 0.11831371 0.1168238  0.11960823 0.12818133 0.12654487\n",
      " 0.12144009 0.11181672 0.12085389 0.11902203 0.11971597 0.11876662\n",
      " 0.11817786 0.11789942 0.11784512 0.11793974 0.11812992 0.1183801\n",
      " 0.11866553 0.11896704 0.11926852 0.11955632 0.11981937 0.1200497\n",
      " 0.12024255 0.12039627 0.12051192 0.12059277]\n",
      "18 day output [[0.12064359]]\n",
      "19 day input [0.05993845 0.0603781  0.0567388  0.06223438 0.06431049 0.07139368\n",
      " 0.07215085 0.07627864 0.08228714 0.08872307 0.08443652 0.09222803\n",
      " 0.08636608 0.092399   0.09156856 0.09322945 0.08900396 0.08995652\n",
      " 0.08614626 0.09195936 0.09293635 0.09213033 0.09015192 0.08990767\n",
      " 0.08497387 0.08761174 0.07615651 0.07676713 0.0807728  0.08192077\n",
      " 0.07371403 0.0714181  0.06374872 0.06912217 0.07517952 0.0722974\n",
      " 0.06882908 0.06843828 0.07483758 0.07024571 0.07432465 0.07383616\n",
      " 0.07371403 0.06987934 0.06824288 0.06743686 0.069342   0.06562943\n",
      " 0.07136925 0.07139368 0.07344536 0.07439793 0.0719066  0.07493527\n",
      " 0.08258024 0.08052855 0.08177422 0.08577988 0.08253139 0.08702555\n",
      " 0.09112891 0.09044502 0.0897367  0.08900396 0.0930829  0.09686874\n",
      " 0.0984075  0.09916467 0.10573494 0.11076645 0.11699477 0.11374628\n",
      " 0.11831371 0.1168238  0.11960823 0.12818133 0.12654487 0.12144009\n",
      " 0.11181672 0.12085389 0.11902203 0.11971597 0.11876662 0.11817786\n",
      " 0.11789942 0.11784512 0.11793974 0.11812992 0.1183801  0.11866553\n",
      " 0.11896704 0.11926852 0.11955632 0.11981937 0.1200497  0.12024255\n",
      " 0.12039627 0.12051192 0.12059277 0.12064359]\n",
      "19 day output [[0.12067007]]\n",
      "20 day input [0.0603781  0.0567388  0.06223438 0.06431049 0.07139368 0.07215085\n",
      " 0.07627864 0.08228714 0.08872307 0.08443652 0.09222803 0.08636608\n",
      " 0.092399   0.09156856 0.09322945 0.08900396 0.08995652 0.08614626\n",
      " 0.09195936 0.09293635 0.09213033 0.09015192 0.08990767 0.08497387\n",
      " 0.08761174 0.07615651 0.07676713 0.0807728  0.08192077 0.07371403\n",
      " 0.0714181  0.06374872 0.06912217 0.07517952 0.0722974  0.06882908\n",
      " 0.06843828 0.07483758 0.07024571 0.07432465 0.07383616 0.07371403\n",
      " 0.06987934 0.06824288 0.06743686 0.069342   0.06562943 0.07136925\n",
      " 0.07139368 0.07344536 0.07439793 0.0719066  0.07493527 0.08258024\n",
      " 0.08052855 0.08177422 0.08577988 0.08253139 0.08702555 0.09112891\n",
      " 0.09044502 0.0897367  0.08900396 0.0930829  0.09686874 0.0984075\n",
      " 0.09916467 0.10573494 0.11076645 0.11699477 0.11374628 0.11831371\n",
      " 0.1168238  0.11960823 0.12818133 0.12654487 0.12144009 0.11181672\n",
      " 0.12085389 0.11902203 0.11971597 0.11876662 0.11817786 0.11789942\n",
      " 0.11784512 0.11793974 0.11812992 0.1183801  0.11866553 0.11896704\n",
      " 0.11926852 0.11955632 0.11981937 0.1200497  0.12024255 0.12039627\n",
      " 0.12051192 0.12059277 0.12064359 0.12067007]\n",
      "20 day output [[0.1206782]]\n",
      "21 day input [0.0567388  0.06223438 0.06431049 0.07139368 0.07215085 0.07627864\n",
      " 0.08228714 0.08872307 0.08443652 0.09222803 0.08636608 0.092399\n",
      " 0.09156856 0.09322945 0.08900396 0.08995652 0.08614626 0.09195936\n",
      " 0.09293635 0.09213033 0.09015192 0.08990767 0.08497387 0.08761174\n",
      " 0.07615651 0.07676713 0.0807728  0.08192077 0.07371403 0.0714181\n",
      " 0.06374872 0.06912217 0.07517952 0.0722974  0.06882908 0.06843828\n",
      " 0.07483758 0.07024571 0.07432465 0.07383616 0.07371403 0.06987934\n",
      " 0.06824288 0.06743686 0.069342   0.06562943 0.07136925 0.07139368\n",
      " 0.07344536 0.07439793 0.0719066  0.07493527 0.08258024 0.08052855\n",
      " 0.08177422 0.08577988 0.08253139 0.08702555 0.09112891 0.09044502\n",
      " 0.0897367  0.08900396 0.0930829  0.09686874 0.0984075  0.09916467\n",
      " 0.10573494 0.11076645 0.11699477 0.11374628 0.11831371 0.1168238\n",
      " 0.11960823 0.12818133 0.12654487 0.12144009 0.11181672 0.12085389\n",
      " 0.11902203 0.11971597 0.11876662 0.11817786 0.11789942 0.11784512\n",
      " 0.11793974 0.11812992 0.1183801  0.11866553 0.11896704 0.11926852\n",
      " 0.11955632 0.11981937 0.1200497  0.12024255 0.12039627 0.12051192\n",
      " 0.12059277 0.12064359 0.12067007 0.1206782 ]\n"
     ]
    },
    {
     "name": "stdout",
     "output_type": "stream",
     "text": [
      "21 day output [[0.12067391]]\n",
      "22 day input [0.06223438 0.06431049 0.07139368 0.07215085 0.07627864 0.08228714\n",
      " 0.08872307 0.08443652 0.09222803 0.08636608 0.092399   0.09156856\n",
      " 0.09322945 0.08900396 0.08995652 0.08614626 0.09195936 0.09293635\n",
      " 0.09213033 0.09015192 0.08990767 0.08497387 0.08761174 0.07615651\n",
      " 0.07676713 0.0807728  0.08192077 0.07371403 0.0714181  0.06374872\n",
      " 0.06912217 0.07517952 0.0722974  0.06882908 0.06843828 0.07483758\n",
      " 0.07024571 0.07432465 0.07383616 0.07371403 0.06987934 0.06824288\n",
      " 0.06743686 0.069342   0.06562943 0.07136925 0.07139368 0.07344536\n",
      " 0.07439793 0.0719066  0.07493527 0.08258024 0.08052855 0.08177422\n",
      " 0.08577988 0.08253139 0.08702555 0.09112891 0.09044502 0.0897367\n",
      " 0.08900396 0.0930829  0.09686874 0.0984075  0.09916467 0.10573494\n",
      " 0.11076645 0.11699477 0.11374628 0.11831371 0.1168238  0.11960823\n",
      " 0.12818133 0.12654487 0.12144009 0.11181672 0.12085389 0.11902203\n",
      " 0.11971597 0.11876662 0.11817786 0.11789942 0.11784512 0.11793974\n",
      " 0.11812992 0.1183801  0.11866553 0.11896704 0.11926852 0.11955632\n",
      " 0.11981937 0.1200497  0.12024255 0.12039627 0.12051192 0.12059277\n",
      " 0.12064359 0.12067007 0.1206782  0.12067391]\n",
      "22 day output [[0.12066256]]\n",
      "23 day input [0.06431049 0.07139368 0.07215085 0.07627864 0.08228714 0.08872307\n",
      " 0.08443652 0.09222803 0.08636608 0.092399   0.09156856 0.09322945\n",
      " 0.08900396 0.08995652 0.08614626 0.09195936 0.09293635 0.09213033\n",
      " 0.09015192 0.08990767 0.08497387 0.08761174 0.07615651 0.07676713\n",
      " 0.0807728  0.08192077 0.07371403 0.0714181  0.06374872 0.06912217\n",
      " 0.07517952 0.0722974  0.06882908 0.06843828 0.07483758 0.07024571\n",
      " 0.07432465 0.07383616 0.07371403 0.06987934 0.06824288 0.06743686\n",
      " 0.069342   0.06562943 0.07136925 0.07139368 0.07344536 0.07439793\n",
      " 0.0719066  0.07493527 0.08258024 0.08052855 0.08177422 0.08577988\n",
      " 0.08253139 0.08702555 0.09112891 0.09044502 0.0897367  0.08900396\n",
      " 0.0930829  0.09686874 0.0984075  0.09916467 0.10573494 0.11076645\n",
      " 0.11699477 0.11374628 0.11831371 0.1168238  0.11960823 0.12818133\n",
      " 0.12654487 0.12144009 0.11181672 0.12085389 0.11902203 0.11971597\n",
      " 0.11876662 0.11817786 0.11789942 0.11784512 0.11793974 0.11812992\n",
      " 0.1183801  0.11866553 0.11896704 0.11926852 0.11955632 0.11981937\n",
      " 0.1200497  0.12024255 0.12039627 0.12051192 0.12059277 0.12064359\n",
      " 0.12067007 0.1206782  0.12067391 0.12066256]\n",
      "23 day output [[0.12064873]]\n",
      "24 day input [0.07139368 0.07215085 0.07627864 0.08228714 0.08872307 0.08443652\n",
      " 0.09222803 0.08636608 0.092399   0.09156856 0.09322945 0.08900396\n",
      " 0.08995652 0.08614626 0.09195936 0.09293635 0.09213033 0.09015192\n",
      " 0.08990767 0.08497387 0.08761174 0.07615651 0.07676713 0.0807728\n",
      " 0.08192077 0.07371403 0.0714181  0.06374872 0.06912217 0.07517952\n",
      " 0.0722974  0.06882908 0.06843828 0.07483758 0.07024571 0.07432465\n",
      " 0.07383616 0.07371403 0.06987934 0.06824288 0.06743686 0.069342\n",
      " 0.06562943 0.07136925 0.07139368 0.07344536 0.07439793 0.0719066\n",
      " 0.07493527 0.08258024 0.08052855 0.08177422 0.08577988 0.08253139\n",
      " 0.08702555 0.09112891 0.09044502 0.0897367  0.08900396 0.0930829\n",
      " 0.09686874 0.0984075  0.09916467 0.10573494 0.11076645 0.11699477\n",
      " 0.11374628 0.11831371 0.1168238  0.11960823 0.12818133 0.12654487\n",
      " 0.12144009 0.11181672 0.12085389 0.11902203 0.11971597 0.11876662\n",
      " 0.11817786 0.11789942 0.11784512 0.11793974 0.11812992 0.1183801\n",
      " 0.11866553 0.11896704 0.11926852 0.11955632 0.11981937 0.1200497\n",
      " 0.12024255 0.12039627 0.12051192 0.12059277 0.12064359 0.12067007\n",
      " 0.1206782  0.12067391 0.12066256 0.12064873]\n",
      "24 day output [[0.12063614]]\n",
      "25 day input [0.07215085 0.07627864 0.08228714 0.08872307 0.08443652 0.09222803\n",
      " 0.08636608 0.092399   0.09156856 0.09322945 0.08900396 0.08995652\n",
      " 0.08614626 0.09195936 0.09293635 0.09213033 0.09015192 0.08990767\n",
      " 0.08497387 0.08761174 0.07615651 0.07676713 0.0807728  0.08192077\n",
      " 0.07371403 0.0714181  0.06374872 0.06912217 0.07517952 0.0722974\n",
      " 0.06882908 0.06843828 0.07483758 0.07024571 0.07432465 0.07383616\n",
      " 0.07371403 0.06987934 0.06824288 0.06743686 0.069342   0.06562943\n",
      " 0.07136925 0.07139368 0.07344536 0.07439793 0.0719066  0.07493527\n",
      " 0.08258024 0.08052855 0.08177422 0.08577988 0.08253139 0.08702555\n",
      " 0.09112891 0.09044502 0.0897367  0.08900396 0.0930829  0.09686874\n",
      " 0.0984075  0.09916467 0.10573494 0.11076645 0.11699477 0.11374628\n",
      " 0.11831371 0.1168238  0.11960823 0.12818133 0.12654487 0.12144009\n",
      " 0.11181672 0.12085389 0.11902203 0.11971597 0.11876662 0.11817786\n",
      " 0.11789942 0.11784512 0.11793974 0.11812992 0.1183801  0.11866553\n",
      " 0.11896704 0.11926852 0.11955632 0.11981937 0.1200497  0.12024255\n",
      " 0.12039627 0.12051192 0.12059277 0.12064359 0.12067007 0.1206782\n",
      " 0.12067391 0.12066256 0.12064873 0.12063614]\n",
      "25 day output [[0.12062743]]\n",
      "26 day input [0.07627864 0.08228714 0.08872307 0.08443652 0.09222803 0.08636608\n",
      " 0.092399   0.09156856 0.09322945 0.08900396 0.08995652 0.08614626\n",
      " 0.09195936 0.09293635 0.09213033 0.09015192 0.08990767 0.08497387\n",
      " 0.08761174 0.07615651 0.07676713 0.0807728  0.08192077 0.07371403\n",
      " 0.0714181  0.06374872 0.06912217 0.07517952 0.0722974  0.06882908\n",
      " 0.06843828 0.07483758 0.07024571 0.07432465 0.07383616 0.07371403\n",
      " 0.06987934 0.06824288 0.06743686 0.069342   0.06562943 0.07136925\n",
      " 0.07139368 0.07344536 0.07439793 0.0719066  0.07493527 0.08258024\n",
      " 0.08052855 0.08177422 0.08577988 0.08253139 0.08702555 0.09112891\n",
      " 0.09044502 0.0897367  0.08900396 0.0930829  0.09686874 0.0984075\n",
      " 0.09916467 0.10573494 0.11076645 0.11699477 0.11374628 0.11831371\n",
      " 0.1168238  0.11960823 0.12818133 0.12654487 0.12144009 0.11181672\n",
      " 0.12085389 0.11902203 0.11971597 0.11876662 0.11817786 0.11789942\n",
      " 0.11784512 0.11793974 0.11812992 0.1183801  0.11866553 0.11896704\n",
      " 0.11926852 0.11955632 0.11981937 0.1200497  0.12024255 0.12039627\n",
      " 0.12051192 0.12059277 0.12064359 0.12067007 0.1206782  0.12067391\n",
      " 0.12066256 0.12064873 0.12063614 0.12062743]\n",
      "26 day output [[0.12062438]]\n",
      "27 day input [0.08228714 0.08872307 0.08443652 0.09222803 0.08636608 0.092399\n",
      " 0.09156856 0.09322945 0.08900396 0.08995652 0.08614626 0.09195936\n",
      " 0.09293635 0.09213033 0.09015192 0.08990767 0.08497387 0.08761174\n",
      " 0.07615651 0.07676713 0.0807728  0.08192077 0.07371403 0.0714181\n",
      " 0.06374872 0.06912217 0.07517952 0.0722974  0.06882908 0.06843828\n",
      " 0.07483758 0.07024571 0.07432465 0.07383616 0.07371403 0.06987934\n",
      " 0.06824288 0.06743686 0.069342   0.06562943 0.07136925 0.07139368\n",
      " 0.07344536 0.07439793 0.0719066  0.07493527 0.08258024 0.08052855\n",
      " 0.08177422 0.08577988 0.08253139 0.08702555 0.09112891 0.09044502\n",
      " 0.0897367  0.08900396 0.0930829  0.09686874 0.0984075  0.09916467\n",
      " 0.10573494 0.11076645 0.11699477 0.11374628 0.11831371 0.1168238\n",
      " 0.11960823 0.12818133 0.12654487 0.12144009 0.11181672 0.12085389\n",
      " 0.11902203 0.11971597 0.11876662 0.11817786 0.11789942 0.11784512\n",
      " 0.11793974 0.11812992 0.1183801  0.11866553 0.11896704 0.11926852\n",
      " 0.11955632 0.11981937 0.1200497  0.12024255 0.12039627 0.12051192\n",
      " 0.12059277 0.12064359 0.12067007 0.1206782  0.12067391 0.12066256\n",
      " 0.12064873 0.12063614 0.12062743 0.12062438]\n",
      "27 day output [[0.12062787]]\n",
      "28 day input [0.08872307 0.08443652 0.09222803 0.08636608 0.092399   0.09156856\n",
      " 0.09322945 0.08900396 0.08995652 0.08614626 0.09195936 0.09293635\n",
      " 0.09213033 0.09015192 0.08990767 0.08497387 0.08761174 0.07615651\n",
      " 0.07676713 0.0807728  0.08192077 0.07371403 0.0714181  0.06374872\n",
      " 0.06912217 0.07517952 0.0722974  0.06882908 0.06843828 0.07483758\n",
      " 0.07024571 0.07432465 0.07383616 0.07371403 0.06987934 0.06824288\n",
      " 0.06743686 0.069342   0.06562943 0.07136925 0.07139368 0.07344536\n",
      " 0.07439793 0.0719066  0.07493527 0.08258024 0.08052855 0.08177422\n",
      " 0.08577988 0.08253139 0.08702555 0.09112891 0.09044502 0.0897367\n",
      " 0.08900396 0.0930829  0.09686874 0.0984075  0.09916467 0.10573494\n",
      " 0.11076645 0.11699477 0.11374628 0.11831371 0.1168238  0.11960823\n",
      " 0.12818133 0.12654487 0.12144009 0.11181672 0.12085389 0.11902203\n",
      " 0.11971597 0.11876662 0.11817786 0.11789942 0.11784512 0.11793974\n",
      " 0.11812992 0.1183801  0.11866553 0.11896704 0.11926852 0.11955632\n",
      " 0.11981937 0.1200497  0.12024255 0.12039627 0.12051192 0.12059277\n",
      " 0.12064359 0.12067007 0.1206782  0.12067391 0.12066256 0.12064873\n",
      " 0.12063614 0.12062743 0.12062438 0.12062787]\n",
      "28 day output [[0.12063797]]\n",
      "29 day input [0.08443652 0.09222803 0.08636608 0.092399   0.09156856 0.09322945\n",
      " 0.08900396 0.08995652 0.08614626 0.09195936 0.09293635 0.09213033\n",
      " 0.09015192 0.08990767 0.08497387 0.08761174 0.07615651 0.07676713\n",
      " 0.0807728  0.08192077 0.07371403 0.0714181  0.06374872 0.06912217\n",
      " 0.07517952 0.0722974  0.06882908 0.06843828 0.07483758 0.07024571\n",
      " 0.07432465 0.07383616 0.07371403 0.06987934 0.06824288 0.06743686\n",
      " 0.069342   0.06562943 0.07136925 0.07139368 0.07344536 0.07439793\n",
      " 0.0719066  0.07493527 0.08258024 0.08052855 0.08177422 0.08577988\n",
      " 0.08253139 0.08702555 0.09112891 0.09044502 0.0897367  0.08900396\n",
      " 0.0930829  0.09686874 0.0984075  0.09916467 0.10573494 0.11076645\n",
      " 0.11699477 0.11374628 0.11831371 0.1168238  0.11960823 0.12818133\n",
      " 0.12654487 0.12144009 0.11181672 0.12085389 0.11902203 0.11971597\n",
      " 0.11876662 0.11817786 0.11789942 0.11784512 0.11793974 0.11812992\n",
      " 0.1183801  0.11866553 0.11896704 0.11926852 0.11955632 0.11981937\n",
      " 0.1200497  0.12024255 0.12039627 0.12051192 0.12059277 0.12064359\n",
      " 0.12067007 0.1206782  0.12067391 0.12066256 0.12064873 0.12063614\n",
      " 0.12062743 0.12062438 0.12062787 0.12063797]\n",
      "29 day output [[0.12065423]]\n",
      "[[0.11971597373485565], [0.11876662075519562], [0.1181778609752655], [0.11789941787719727], [0.11784511804580688], [0.11793974041938782], [0.1181299239397049], [0.1183800995349884], [0.11866553127765656], [0.11896704137325287], [0.1192685216665268], [0.11955632269382477], [0.11981937289237976], [0.12004970014095306], [0.12024255096912384], [0.12039627134799957], [0.12051191926002502], [0.12059277296066284], [0.12064358592033386], [0.12067006528377533], [0.12067820131778717], [0.12067390978336334], [0.12066255509853363], [0.12064872682094574], [0.12063613533973694], [0.12062743306159973], [0.12062437832355499], [0.12062786519527435], [0.12063796818256378], [0.12065422534942627]]\n"
     ]
    }
   ],
   "source": [
    "lst_output = []\n",
    "n_steps = 100\n",
    "i = 0\n",
    "\n",
    "while(i < 30):\n",
    "    if(len(temp_input) > 100):\n",
    "        x_input = np.array(temp_input[1:])\n",
    "        print('{} day input {}'.format(i, x_input))\n",
    "        x_input = x_input.reshape(1, -1)\n",
    "        x_input = x_input.reshape((1, n_steps, 1))\n",
    "        \n",
    "        y_hat = model.predict(x_input, verbose = 0)\n",
    "        print('{} day output {}'.format(i, y_hat))\n",
    "        temp_input.extend(y_hat[0].tolist())\n",
    "        temp_input = temp_input[1:]\n",
    "        \n",
    "        lst_output.extend(y_hat.tolist())\n",
    "        i += 1\n",
    "        \n",
    "    else:\n",
    "        x_input = x_input.reshape((1, n_steps, 1))\n",
    "        \n",
    "        y_hat = model.predict(x_input, verbose = 0)\n",
    "        temp_input.extend(y_hat[0].tolist())\n",
    "        \n",
    "        lst_output.extend(y_hat.tolist())\n",
    "        i += 1\n",
    "\n",
    "print(lst_output)"
   ]
  },
  {
   "cell_type": "code",
   "execution_count": 46,
   "id": "52f97683",
   "metadata": {},
   "outputs": [],
   "source": [
    "day_new = np.arange(1, 101)\n",
    "day_pred = np.arange(101, 131)"
   ]
  },
  {
   "cell_type": "code",
   "execution_count": 47,
   "id": "1c83afaa",
   "metadata": {},
   "outputs": [
    {
     "data": {
      "text/plain": [
       "1257"
      ]
     },
     "execution_count": 47,
     "metadata": {},
     "output_type": "execute_result"
    }
   ],
   "source": [
    "len(df1)"
   ]
  },
  {
   "cell_type": "code",
   "execution_count": 48,
   "id": "ecd415b2",
   "metadata": {},
   "outputs": [
    {
     "data": {
      "text/plain": [
       "[<matplotlib.lines.Line2D at 0x1d4a8e80df0>]"
      ]
     },
     "execution_count": 48,
     "metadata": {},
     "output_type": "execute_result"
    },
    {
     "data": {
      "image/png": "[encoded data removed]",
      "text/plain": [
       "<Figure size 432x288 with 1 Axes>"
      ]
     },
     "metadata": {
      "needs_background": "light"
     },
     "output_type": "display_data"
    }
   ],
   "source": [
    "plt.plot(day_new, scaler.inverse_transform(df1[1157: ]))\n",
    "plt.plot(day_pred, scaler.inverse_transform(lst_output))"
   ]
  },
  {
   "cell_type": "code",
   "execution_count": 49,
   "id": "dccfac81",
   "metadata": {},
   "outputs": [],
   "source": [
    "df_new = df1.tolist()\n",
    "df_new.extend(lst_output)"
   ]
  },
  {
   "cell_type": "code",
   "execution_count": 52,
   "id": "1ff30475",
   "metadata": {},
   "outputs": [
    {
     "data": {
      "text/plain": [
       "[<matplotlib.lines.Line2D at 0x1d5bbbb2c10>]"
      ]
     },
     "execution_count": 52,
     "metadata": {},
     "output_type": "execute_result"
    },
    {
     "data": {
      "image/png": "[encoded data removed]",
      "text/plain": [
       "<Figure size 432x288 with 1 Axes>"
      ]
     },
     "metadata": {
      "needs_background": "light"
     },
     "output_type": "display_data"
    }
   ],
   "source": [
    "plt.plot(df_new[1200:])"
   ]
  },
  {
   "cell_type": "code",
   "execution_count": null,
   "id": "2b5fc027",
   "metadata": {},
   "outputs": [],
   "source": []
  }
 ],
 "metadata": {
  "kernelspec": {
   "display_name": "Python 3",
   "language": "python",
   "name": "python3"
  },
  "language_info": {
   "codemirror_mode": {
    "name": "ipython",
    "version": 3
   },
   "file_extension": ".py",
   "mimetype": "text/x-python",
   "name": "python",
   "nbconvert_exporter": "python",
   "pygments_lexer": "ipython3",
   "version": "3.9.5"
  }
 },
 "nbformat": 4,
 "nbformat_minor": 5
}
